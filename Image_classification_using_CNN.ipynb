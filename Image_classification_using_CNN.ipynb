{
  "nbformat": 4,
  "nbformat_minor": 0,
  "metadata": {
    "colab": {
      "name": "Image classification using CNN.ipynb",
      "provenance": [],
      "collapsed_sections": []
    },
    "kernelspec": {
      "name": "python3",
      "display_name": "Python 3"
    },
    "language_info": {
      "name": "python"
    },
    "accelerator": "GPU"
  },
  "cells": [
    {
      "cell_type": "code",
      "metadata": {
        "colab": {
          "base_uri": "https://localhost:8080/"
        },
        "id": "Y2CG_C91seSb",
        "outputId": "0bd8260e-9436-4a67-882f-e4c8e1f3da58"
      },
      "source": [
        "#loading the data\n",
        "from keras.datasets import cifar10\n",
        "\n",
        "import numpy\n",
        "\n",
        "(x_train, y_train), (x_test, y_test) = cifar10.load_data()\n",
        "\n",
        "print('shape of x_train: ' + str(x_train.shape))\n",
        "print('shape of y_train: ' + str(y_train.shape))\n",
        "print('shape of x_test: ' + str(x_test.shape))\n",
        "print('shape of y_test: ' + str(y_test.shape))\n",
        "print('number of classes: ' + str(numpy.max(y_train) - numpy.min(y_train) + 1))"
      ],
      "execution_count": 1,
      "outputs": [
        {
          "output_type": "stream",
          "text": [
            "Downloading data from https://www.cs.toronto.edu/~kriz/cifar-10-python.tar.gz\n",
            "170500096/170498071 [==============================] - 2s 0us/step\n",
            "170508288/170498071 [==============================] - 2s 0us/step\n",
            "shape of x_train: (50000, 32, 32, 3)\n",
            "shape of y_train: (50000, 1)\n",
            "shape of x_test: (10000, 32, 32, 3)\n",
            "shape of y_test: (10000, 1)\n",
            "number of classes: 10\n"
          ],
          "name": "stdout"
        }
      ]
    },
    {
      "cell_type": "code",
      "metadata": {
        "colab": {
          "base_uri": "https://localhost:8080/"
        },
        "id": "7wQbkmrws8QV",
        "outputId": "feabc06b-22fe-4612-a933-2d81fca7eb9c"
      },
      "source": [
        "#one-hot encode the labels\n",
        "def to_one_hot(y, num_class=10):    \n",
        "    result = numpy.zeros((len(y),num_class))\n",
        "    for i,y in enumerate(y):\n",
        "        result[i,y]=1\n",
        "    return result\n",
        "\n",
        "y_train_vec = to_one_hot(y_train)\n",
        "y_test_vec = to_one_hot(y_test)\n",
        "\n",
        "print('Shape of y_train_vec: ' + str(y_train_vec.shape))\n",
        "print('Shape of y_test_vec: ' + str(y_test_vec.shape))\n",
        "\n",
        "print(y_train[0])\n",
        "print(y_train_vec[0])"
      ],
      "execution_count": 2,
      "outputs": [
        {
          "output_type": "stream",
          "text": [
            "Shape of y_train_vec: (50000, 10)\n",
            "Shape of y_test_vec: (10000, 10)\n",
            "[6]\n",
            "[0. 0. 0. 0. 0. 0. 1. 0. 0. 0.]\n"
          ],
          "name": "stdout"
        }
      ]
    },
    {
      "cell_type": "code",
      "metadata": {
        "colab": {
          "base_uri": "https://localhost:8080/"
        },
        "id": "41YqaNPpu011",
        "outputId": "e4121994-4438-4a5d-e280-80dc81862d8f"
      },
      "source": [
        " #Randomly partition the training set to training and validation sets\n",
        " rand_indices = numpy.random.permutation(50000)\n",
        "train_indices = rand_indices[0:40000]\n",
        "valid_indices = rand_indices[40000:50000]\n",
        "\n",
        "x_val = x_train[valid_indices, :]\n",
        "y_val = y_train_vec[valid_indices, :]\n",
        "\n",
        "x_tr = x_train[train_indices, :]\n",
        "y_tr = y_train_vec[train_indices, :]\n",
        "\n",
        "print('Shape of x_tr: ' + str(x_tr.shape))\n",
        "print('Shape of y_tr: ' + str(y_tr.shape))\n",
        "print('Shape of x_val: ' + str(x_val.shape))\n",
        "print('Shape of y_val: ' + str(y_val.shape))"
      ],
      "execution_count": 3,
      "outputs": [
        {
          "output_type": "stream",
          "text": [
            "Shape of x_tr: (40000, 32, 32, 3)\n",
            "Shape of y_tr: (40000, 10)\n",
            "Shape of x_val: (10000, 32, 32, 3)\n",
            "Shape of y_val: (10000, 10)\n"
          ],
          "name": "stdout"
        }
      ]
    },
    {
      "cell_type": "code",
      "metadata": {
        "colab": {
          "base_uri": "https://localhost:8080/"
        },
        "id": "DJpnHGA_u7ul",
        "outputId": "7eb2cfea-5b5c-4d09-f584-5f558bf5e92c"
      },
      "source": [
        "#Build a CNN and tune its hyper-parameters\n",
        "from keras.layers import Conv2D, MaxPooling2D, Flatten, Dense, Dropout, Activation, BatchNormalization\n",
        "from keras.models import Sequential\n",
        "\n",
        "model = Sequential()\n",
        "model.add(Conv2D(32, (3, 3), padding='same', input_shape=(32, 32, 3)))\n",
        "model.add(BatchNormalization())\n",
        "model.add(Activation('relu'))\n",
        "model.add(Dropout(0.2)) \n",
        "model.add(Conv2D(32, (3, 3), padding='same'))\n",
        "model.add(BatchNormalization())\n",
        "model.add(Activation('relu'))\n",
        "model.add(MaxPooling2D((2, 2)))\n",
        "\n",
        "model.add(Dropout(0.2))  \n",
        "model.add(Conv2D(64, (3, 3), padding='same'))\n",
        "model.add(BatchNormalization())\n",
        "model.add(Activation('relu'))\n",
        "model.add(Dropout(0.2))  \n",
        "model.add(Conv2D(64, (3, 3), padding='same'))\n",
        "model.add(BatchNormalization())\n",
        "model.add(Activation('relu'))\n",
        "model.add(MaxPooling2D((2, 2)))\n",
        "\n",
        "model.add(Dropout(0.2)) \n",
        "model.add(Conv2D(128, (3, 3), padding='same'))\n",
        "model.add(BatchNormalization())\n",
        "model.add(Activation('relu'))\n",
        "model.add(Dropout(0.2)) \n",
        "model.add(Conv2D(128, (3, 3), padding='same'))\n",
        "model.add(BatchNormalization())\n",
        "model.add(Activation('relu'))\n",
        "model.add(MaxPooling2D((2, 2)))\n",
        "\n",
        "model.add(Dropout(0.2)) \n",
        "model.add(Conv2D(256, (3, 3), padding='same'))\n",
        "model.add(BatchNormalization())\n",
        "model.add(Activation('relu'))\n",
        "model.add(Dropout(0.2)) \n",
        "model.add(Conv2D(256, (3, 3), padding='same'))\n",
        "model.add(BatchNormalization())\n",
        "model.add(Activation('relu'))\n",
        "model.add(MaxPooling2D((2, 2)))\n",
        "\n",
        "model.add(Flatten())\n",
        "model.add(Dropout(0.5))\n",
        "model.add(Dense(256, activation='relu'))\n",
        "model.add(Dense(10, activation='softmax'))\n",
        "\n",
        "model.summary()"
      ],
      "execution_count": 4,
      "outputs": [
        {
          "output_type": "stream",
          "text": [
            "Model: \"sequential\"\n",
            "_________________________________________________________________\n",
            "Layer (type)                 Output Shape              Param #   \n",
            "=================================================================\n",
            "conv2d (Conv2D)              (None, 32, 32, 32)        896       \n",
            "_________________________________________________________________\n",
            "batch_normalization (BatchNo (None, 32, 32, 32)        128       \n",
            "_________________________________________________________________\n",
            "activation (Activation)      (None, 32, 32, 32)        0         \n",
            "_________________________________________________________________\n",
            "dropout (Dropout)            (None, 32, 32, 32)        0         \n",
            "_________________________________________________________________\n",
            "conv2d_1 (Conv2D)            (None, 32, 32, 32)        9248      \n",
            "_________________________________________________________________\n",
            "batch_normalization_1 (Batch (None, 32, 32, 32)        128       \n",
            "_________________________________________________________________\n",
            "activation_1 (Activation)    (None, 32, 32, 32)        0         \n",
            "_________________________________________________________________\n",
            "max_pooling2d (MaxPooling2D) (None, 16, 16, 32)        0         \n",
            "_________________________________________________________________\n",
            "dropout_1 (Dropout)          (None, 16, 16, 32)        0         \n",
            "_________________________________________________________________\n",
            "conv2d_2 (Conv2D)            (None, 16, 16, 64)        18496     \n",
            "_________________________________________________________________\n",
            "batch_normalization_2 (Batch (None, 16, 16, 64)        256       \n",
            "_________________________________________________________________\n",
            "activation_2 (Activation)    (None, 16, 16, 64)        0         \n",
            "_________________________________________________________________\n",
            "dropout_2 (Dropout)          (None, 16, 16, 64)        0         \n",
            "_________________________________________________________________\n",
            "conv2d_3 (Conv2D)            (None, 16, 16, 64)        36928     \n",
            "_________________________________________________________________\n",
            "batch_normalization_3 (Batch (None, 16, 16, 64)        256       \n",
            "_________________________________________________________________\n",
            "activation_3 (Activation)    (None, 16, 16, 64)        0         \n",
            "_________________________________________________________________\n",
            "max_pooling2d_1 (MaxPooling2 (None, 8, 8, 64)          0         \n",
            "_________________________________________________________________\n",
            "dropout_3 (Dropout)          (None, 8, 8, 64)          0         \n",
            "_________________________________________________________________\n",
            "conv2d_4 (Conv2D)            (None, 8, 8, 128)         73856     \n",
            "_________________________________________________________________\n",
            "batch_normalization_4 (Batch (None, 8, 8, 128)         512       \n",
            "_________________________________________________________________\n",
            "activation_4 (Activation)    (None, 8, 8, 128)         0         \n",
            "_________________________________________________________________\n",
            "dropout_4 (Dropout)          (None, 8, 8, 128)         0         \n",
            "_________________________________________________________________\n",
            "conv2d_5 (Conv2D)            (None, 8, 8, 128)         147584    \n",
            "_________________________________________________________________\n",
            "batch_normalization_5 (Batch (None, 8, 8, 128)         512       \n",
            "_________________________________________________________________\n",
            "activation_5 (Activation)    (None, 8, 8, 128)         0         \n",
            "_________________________________________________________________\n",
            "max_pooling2d_2 (MaxPooling2 (None, 4, 4, 128)         0         \n",
            "_________________________________________________________________\n",
            "dropout_5 (Dropout)          (None, 4, 4, 128)         0         \n",
            "_________________________________________________________________\n",
            "conv2d_6 (Conv2D)            (None, 4, 4, 256)         295168    \n",
            "_________________________________________________________________\n",
            "batch_normalization_6 (Batch (None, 4, 4, 256)         1024      \n",
            "_________________________________________________________________\n",
            "activation_6 (Activation)    (None, 4, 4, 256)         0         \n",
            "_________________________________________________________________\n",
            "dropout_6 (Dropout)          (None, 4, 4, 256)         0         \n",
            "_________________________________________________________________\n",
            "conv2d_7 (Conv2D)            (None, 4, 4, 256)         590080    \n",
            "_________________________________________________________________\n",
            "batch_normalization_7 (Batch (None, 4, 4, 256)         1024      \n",
            "_________________________________________________________________\n",
            "activation_7 (Activation)    (None, 4, 4, 256)         0         \n",
            "_________________________________________________________________\n",
            "max_pooling2d_3 (MaxPooling2 (None, 2, 2, 256)         0         \n",
            "_________________________________________________________________\n",
            "flatten (Flatten)            (None, 1024)              0         \n",
            "_________________________________________________________________\n",
            "dropout_7 (Dropout)          (None, 1024)              0         \n",
            "_________________________________________________________________\n",
            "dense (Dense)                (None, 256)               262400    \n",
            "_________________________________________________________________\n",
            "dense_1 (Dense)              (None, 10)                2570      \n",
            "=================================================================\n",
            "Total params: 1,441,066\n",
            "Trainable params: 1,439,146\n",
            "Non-trainable params: 1,920\n",
            "_________________________________________________________________\n"
          ],
          "name": "stdout"
        }
      ]
    },
    {
      "cell_type": "code",
      "metadata": {
        "colab": {
          "base_uri": "https://localhost:8080/"
        },
        "id": "aErEOBGvpCzr",
        "outputId": "659ad649-c7b2-4c13-934f-93c2c68790ed"
      },
      "source": [
        "from keras import optimizers\n",
        "\n",
        "learning_rate = 0.001\n",
        "\n",
        "model.compile(loss='categorical_crossentropy',\n",
        "              optimizer=optimizers.RMSprop(lr=learning_rate),\n",
        "              metrics=['acc'])"
      ],
      "execution_count": 5,
      "outputs": [
        {
          "output_type": "stream",
          "text": [
            "/usr/local/lib/python3.7/dist-packages/tensorflow/python/keras/optimizer_v2/optimizer_v2.py:375: UserWarning: The `lr` argument is deprecated, use `learning_rate` instead.\n",
            "  \"The `lr` argument is deprecated, use `learning_rate` instead.\")\n"
          ],
          "name": "stderr"
        }
      ]
    },
    {
      "cell_type": "code",
      "metadata": {
        "colab": {
          "base_uri": "https://localhost:8080/"
        },
        "id": "cPLPQulhusH8",
        "outputId": "162bdb72-6724-4e4f-d7bc-f9505441062f"
      },
      "source": [
        "history = model.fit(x_tr, y_tr, batch_size=128, epochs=20, validation_data=(x_val, y_val))"
      ],
      "execution_count": 6,
      "outputs": [
        {
          "output_type": "stream",
          "text": [
            "Epoch 1/20\n",
            "313/313 [==============================] - 56s 27ms/step - loss: 2.1454 - acc: 0.2787 - val_loss: 1.4100 - val_acc: 0.4967\n",
            "Epoch 2/20\n",
            "313/313 [==============================] - 7s 23ms/step - loss: 1.3195 - acc: 0.5223 - val_loss: 1.2271 - val_acc: 0.5523\n",
            "Epoch 3/20\n",
            "313/313 [==============================] - 7s 22ms/step - loss: 1.0672 - acc: 0.6194 - val_loss: 1.1470 - val_acc: 0.5917\n",
            "Epoch 4/20\n",
            "313/313 [==============================] - 7s 23ms/step - loss: 0.9391 - acc: 0.6666 - val_loss: 1.0655 - val_acc: 0.6287\n",
            "Epoch 5/20\n",
            "313/313 [==============================] - 7s 23ms/step - loss: 0.8435 - acc: 0.7065 - val_loss: 0.8519 - val_acc: 0.7005\n",
            "Epoch 6/20\n",
            "313/313 [==============================] - 7s 23ms/step - loss: 0.7771 - acc: 0.7258 - val_loss: 0.7865 - val_acc: 0.7313\n",
            "Epoch 7/20\n",
            "313/313 [==============================] - 7s 23ms/step - loss: 0.7269 - acc: 0.7457 - val_loss: 0.7642 - val_acc: 0.7351\n",
            "Epoch 8/20\n",
            "313/313 [==============================] - 7s 23ms/step - loss: 0.6775 - acc: 0.7643 - val_loss: 1.3006 - val_acc: 0.5941\n",
            "Epoch 9/20\n",
            "313/313 [==============================] - 7s 23ms/step - loss: 0.6481 - acc: 0.7746 - val_loss: 0.6829 - val_acc: 0.7644\n",
            "Epoch 10/20\n",
            "313/313 [==============================] - 7s 23ms/step - loss: 0.6097 - acc: 0.7902 - val_loss: 1.0008 - val_acc: 0.6910\n",
            "Epoch 11/20\n",
            "313/313 [==============================] - 7s 23ms/step - loss: 0.5965 - acc: 0.7922 - val_loss: 0.6228 - val_acc: 0.7884\n",
            "Epoch 12/20\n",
            "313/313 [==============================] - 7s 22ms/step - loss: 0.5735 - acc: 0.8043 - val_loss: 0.6248 - val_acc: 0.7911\n",
            "Epoch 13/20\n",
            "313/313 [==============================] - 7s 23ms/step - loss: 0.5432 - acc: 0.8141 - val_loss: 0.6176 - val_acc: 0.7944\n",
            "Epoch 14/20\n",
            "313/313 [==============================] - 7s 23ms/step - loss: 0.5317 - acc: 0.8167 - val_loss: 0.6312 - val_acc: 0.7896\n",
            "Epoch 15/20\n",
            "313/313 [==============================] - 7s 23ms/step - loss: 0.5117 - acc: 0.8260 - val_loss: 0.7321 - val_acc: 0.7717\n",
            "Epoch 16/20\n",
            "313/313 [==============================] - 7s 23ms/step - loss: 0.5083 - acc: 0.8259 - val_loss: 0.6866 - val_acc: 0.7761\n",
            "Epoch 17/20\n",
            "313/313 [==============================] - 7s 22ms/step - loss: 0.4818 - acc: 0.8378 - val_loss: 0.7668 - val_acc: 0.7548\n",
            "Epoch 18/20\n",
            "313/313 [==============================] - 7s 23ms/step - loss: 0.4668 - acc: 0.8404 - val_loss: 0.6998 - val_acc: 0.7783\n",
            "Epoch 19/20\n",
            "313/313 [==============================] - 7s 23ms/step - loss: 0.4566 - acc: 0.8427 - val_loss: 0.6572 - val_acc: 0.7974\n",
            "Epoch 20/20\n",
            "313/313 [==============================] - 7s 23ms/step - loss: 0.4476 - acc: 0.8446 - val_loss: 0.5324 - val_acc: 0.8290\n"
          ],
          "name": "stdout"
        }
      ]
    },
    {
      "cell_type": "code",
      "metadata": {
        "colab": {
          "base_uri": "https://localhost:8080/",
          "height": 279
        },
        "id": "6LHfZ4Vtvcp6",
        "outputId": "00a3878d-f0b9-4757-b089-a52f087754b0"
      },
      "source": [
        "import matplotlib.pyplot as plt\n",
        "%matplotlib inline\n",
        "\n",
        "acc = history.history['acc']\n",
        "val_acc = history.history['val_acc']\n",
        "\n",
        "epochs = range(len(acc))\n",
        "\n",
        "plt.plot(epochs, acc, 'bo', label='Training acc')\n",
        "plt.plot(epochs, val_acc, 'r', label='Validation acc')\n",
        "plt.xlabel('Epochs')\n",
        "plt.ylabel('Accuracy')\n",
        "plt.legend()\n",
        "plt.show()"
      ],
      "execution_count": 7,
      "outputs": [
        {
          "output_type": "display_data",
          "data": {
            "image/png": "[encoded data removed]",
            "text/plain": [
              "<Figure size 432x288 with 1 Axes>"
            ]
          },
          "metadata": {
            "tags": [],
            "needs_background": "light"
          }
        }
      ]
    },
    {
      "cell_type": "code",
      "metadata": {
        "colab": {
          "base_uri": "https://localhost:8080/"
        },
        "id": "xZ8ssCG5vz-3",
        "outputId": "3703cd9c-182c-4e23-b84d-e2aba435fddb"
      },
      "source": [
        "#training the model on entire training set\n",
        "learning_rate = 0.001 # to be tuned!\n",
        "\n",
        "model.compile(loss='categorical_crossentropy',\n",
        "              optimizer=optimizers.RMSprop(lr=learning_rate),\n",
        "              metrics=['acc'])"
      ],
      "execution_count": 8,
      "outputs": [
        {
          "output_type": "stream",
          "text": [
            "/usr/local/lib/python3.7/dist-packages/tensorflow/python/keras/optimizer_v2/optimizer_v2.py:375: UserWarning: The `lr` argument is deprecated, use `learning_rate` instead.\n",
            "  \"The `lr` argument is deprecated, use `learning_rate` instead.\")\n"
          ],
          "name": "stderr"
        }
      ]
    },
    {
      "cell_type": "code",
      "metadata": {
        "colab": {
          "base_uri": "https://localhost:8080/"
        },
        "id": "Le57INntwOMk",
        "outputId": "0ea65781-48f9-4c80-ca80-afa54ce61f88"
      },
      "source": [
        "history = model.fit(x_train, y_train_vec, batch_size=128, epochs=20)"
      ],
      "execution_count": 9,
      "outputs": [
        {
          "output_type": "stream",
          "text": [
            "Epoch 1/20\n",
            "391/391 [==============================] - 12s 23ms/step - loss: 0.5058 - acc: 0.8308\n",
            "Epoch 2/20\n",
            "391/391 [==============================] - 8s 22ms/step - loss: 0.4741 - acc: 0.8406\n",
            "Epoch 3/20\n",
            "391/391 [==============================] - 8s 21ms/step - loss: 0.4608 - acc: 0.8467\n",
            "Epoch 4/20\n",
            "391/391 [==============================] - 8s 21ms/step - loss: 0.4538 - acc: 0.8472\n",
            "Epoch 5/20\n",
            "391/391 [==============================] - 8s 21ms/step - loss: 0.4410 - acc: 0.8509\n",
            "Epoch 6/20\n",
            "391/391 [==============================] - 8s 21ms/step - loss: 0.4285 - acc: 0.8531\n",
            "Epoch 7/20\n",
            "391/391 [==============================] - 8s 21ms/step - loss: 0.4212 - acc: 0.8588\n",
            "Epoch 8/20\n",
            "391/391 [==============================] - 8s 21ms/step - loss: 0.4180 - acc: 0.8593\n",
            "Epoch 9/20\n",
            "391/391 [==============================] - 8s 21ms/step - loss: 0.4020 - acc: 0.8659\n",
            "Epoch 10/20\n",
            "391/391 [==============================] - 8s 21ms/step - loss: 0.4028 - acc: 0.8653\n",
            "Epoch 11/20\n",
            "391/391 [==============================] - 8s 21ms/step - loss: 0.4028 - acc: 0.8657\n",
            "Epoch 12/20\n",
            "391/391 [==============================] - 8s 21ms/step - loss: 0.3929 - acc: 0.8665\n",
            "Epoch 13/20\n",
            "391/391 [==============================] - 8s 21ms/step - loss: 0.3947 - acc: 0.8703\n",
            "Epoch 14/20\n",
            "391/391 [==============================] - 8s 21ms/step - loss: 0.3833 - acc: 0.8732\n",
            "Epoch 15/20\n",
            "391/391 [==============================] - 8s 21ms/step - loss: 0.3780 - acc: 0.8752\n",
            "Epoch 16/20\n",
            "391/391 [==============================] - 8s 21ms/step - loss: 0.3829 - acc: 0.8722\n",
            "Epoch 17/20\n",
            "391/391 [==============================] - 8s 21ms/step - loss: 0.3785 - acc: 0.8748\n",
            "Epoch 18/20\n",
            "391/391 [==============================] - 8s 21ms/step - loss: 0.3835 - acc: 0.8725\n",
            "Epoch 19/20\n",
            "391/391 [==============================] - 8s 21ms/step - loss: 0.3655 - acc: 0.8797\n",
            "Epoch 20/20\n",
            "391/391 [==============================] - 8s 21ms/step - loss: 0.3665 - acc: 0.8803\n"
          ],
          "name": "stdout"
        }
      ]
    },
    {
      "cell_type": "code",
      "metadata": {
        "colab": {
          "base_uri": "https://localhost:8080/"
        },
        "id": "OBlBtl22xVUB",
        "outputId": "faead02a-fe19-425e-bc2f-8603a18ee123"
      },
      "source": [
        "#evaluating model on test data\n",
        "loss_and_acc = model.evaluate(x_test, y_test_vec)\n",
        "print('loss = ' + str(loss_and_acc[0]))\n",
        "print('accuracy = ' + str(loss_and_acc[1]))"
      ],
      "execution_count": 10,
      "outputs": [
        {
          "output_type": "stream",
          "text": [
            "313/313 [==============================] - 2s 3ms/step - loss: 0.5491 - acc: 0.8362\n",
            "loss = 0.5491291284561157\n",
            "accuracy = 0.8361999988555908\n"
          ],
          "name": "stdout"
        }
      ]
    }
  ]
}